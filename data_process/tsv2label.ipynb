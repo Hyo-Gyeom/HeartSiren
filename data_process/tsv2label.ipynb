{
 "cells": [
  {
   "cell_type": "code",
   "execution_count": null,
   "metadata": {},
   "outputs": [],
   "source": [
    "import torchaudio.transforms as T\n",
    "import torch\n",
    "import pandas as pd\n",
    "import matplotlib.pyplot as plt\n",
    "import matplotlib.patches as patches\n",
    "\n",
    "# 가상의 멜 스펙트로그램 변환 함수\n",
    "mel_transform = T.MelSpectrogram(sample_rate=8000, n_fft=400, hop_length=256, n_mels=64)\n",
    "\n",
    "# TSV 파일 불러오기 (xmin, ymin은 이미 존재하는 데이터)\n",
    "df = pd.read_csv('your_data.tsv', sep='\\t', header=None, names=['xmin', 'ymin', 'label_ind'])\n",
    "\n",
    "# 가상의 오디오 파일을 로드하고 해당 구간의 멜 스펙트로그램 계산\n",
    "audio_file = 'your_audio_file.wav'  # 실제 데이터에 맞게 수정\n",
    "audio_waveform, _ = torchaudio.load(audio_file, normalize=True)\n",
    "\n",
    "start_sample = int(df['xmin'].iloc[0])  # 예시로 첫 번째 행의 xmin을 사용\n",
    "end_sample = int(df['ymin'].iloc[0])  # 예시로 첫 번째 행의 ymin을 사용\n",
    "\n",
    "audio_segment = audio_waveform[:, start_sample:end_sample]\n",
    "mel_spec = mel_transform(audio_segment)\n",
    "\n",
    "# ymin을 멜 스펙트로그램의 최대값으로 설정\n",
    "ymin_max = mel_spec.max().item()\n",
    "df['ymin'] = ymin_max\n",
    "\n",
    "# 최종 TSV 파일로 저장\n",
    "df.to_csv('your_output_data.tsv', sep='\\t', index=False, header=False)\n",
    "\n",
    "# 멜 스펙트로그램 시각화\n",
    "plt.figure(figsize=(10, 5))\n",
    "plt.imshow(mel_spec[0].numpy(), cmap='viridis', aspect='auto', origin='lower')\n",
    "\n",
    "# bbox 추가\n",
    "for idx, row in df.iterrows():\n",
    "    xmin = row['xmin']\n",
    "    ymin = row['ymin']\n",
    "    xmax = row['xmax']  # 미리 계산된 xmax를 사용해야 합니다.\n",
    "    ymax = row['ymax']  # 미리 계산된 ymax를 사용해야 합니다.\n",
    "\n",
    "    width = xmax - xmin\n",
    "    height = ymax - ymin\n",
    "\n",
    "    # 붉은색 bbox 추가\n",
    "    rect = patches.Rectangle((xmin, ymin), width, height, linewidth=1, edgecolor='red', facecolor='none')\n",
    "    plt.gca().add_patch(rect)\n",
    "\n",
    "plt.ylim(0, mel_spec.shape[1])\n",
    "plt.xlim(0, mel_spec.shape[2])\n",
    "plt.show()\n"
   ]
  }
 ],
 "metadata": {
  "language_info": {
   "name": "python"
  }
 },
 "nbformat": 4,
 "nbformat_minor": 2
}
